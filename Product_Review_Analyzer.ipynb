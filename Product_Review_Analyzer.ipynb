{
  "cells": [
    {
      "cell_type": "markdown",
      "metadata": {
        "colab_type": "text",
        "id": "view-in-github"
      },
      "source": [
        "<a href=\"https://colab.research.google.com/github/thealonemusk/Product-Review-Analyzer/blob/main/Product_Review_Analyzer.ipynb\" target=\"_parent\"><img src=\"https://colab.research.google.com/assets/colab-badge.svg\" alt=\"Open In Colab\"/></a>"
      ]
    },
    {
      "cell_type": "code",
      "execution_count": null,
      "metadata": {
        "colab": {
          "base_uri": "https://localhost:8080/"
        },
        "id": "z1XgYwkVZFIg",
        "outputId": "ffbdd796-a150-417f-97a6-bf81d1d3fcf4"
      },
      "outputs": [
        {
          "name": "stderr",
          "output_type": "stream",
          "text": [
            "Some weights of the model checkpoint at distilbert-base-uncased were not used when initializing DistilBertForSequenceClassification: ['vocab_transform.bias', 'vocab_layer_norm.weight', 'vocab_transform.weight', 'vocab_projector.bias', 'vocab_layer_norm.bias']\n",
            "- This IS expected if you are initializing DistilBertForSequenceClassification from the checkpoint of a model trained on another task or with another architecture (e.g. initializing a BertForSequenceClassification model from a BertForPreTraining model).\n",
            "- This IS NOT expected if you are initializing DistilBertForSequenceClassification from the checkpoint of a model that you expect to be exactly identical (initializing a BertForSequenceClassification model from a BertForSequenceClassification model).\n",
            "Some weights of DistilBertForSequenceClassification were not initialized from the model checkpoint at distilbert-base-uncased and are newly initialized: ['classifier.bias', 'pre_classifier.bias', 'classifier.weight', 'pre_classifier.weight']\n",
            "You should probably TRAIN this model on a down-stream task to be able to use it for predictions and inference.\n",
            "/usr/local/lib/python3.10/dist-packages/transformers/optimization.py:411: FutureWarning: This implementation of AdamW is deprecated and will be removed in a future version. Use the PyTorch implementation torch.optim.AdamW instead, or set `no_deprecation_warning=True` to disable this warning\n",
            "  warnings.warn(\n"
          ]
        },
        {
          "name": "stdout",
          "output_type": "stream",
          "text": [
            "Epoch 1/3 - Loss: 1.6274002279554094\n",
            "Epoch 2/3 - Loss: 1.5430940559932165\n",
            "Epoch 3/3 - Loss: 1.40561124256679\n"
          ]
        },
        {
          "data": {
            "text/plain": [
              "('./models/sentiment_model/tokenizer_config.json',\n",
              " './models/sentiment_model/special_tokens_map.json',\n",
              " './models/sentiment_model/vocab.txt',\n",
              " './models/sentiment_model/added_tokens.json',\n",
              " './models/sentiment_model/tokenizer.json')"
            ]
          },
          "execution_count": 27,
          "metadata": {},
          "output_type": "execute_result"
        }
      ],
      "source": [
        "import pandas as pd\n",
        "import torch\n",
        "from transformers import DistilBertTokenizerFast, DistilBertForSequenceClassification, AdamW\n",
        "from sklearn.model_selection import train_test_split\n",
        "import pickle\n",
        "\n",
        "# Load and preprocess the dataset\n",
        "dataset = pd.read_csv(\"testing_dataset.csv\")\n",
        "\n",
        "# Split the dataset into training and validation sets\n",
        "train_data, val_data = train_test_split(dataset, test_size=0.2, random_state=42)\n",
        "\n",
        "# Define the labels (sentiments)\n",
        "labels = list(dataset[\"Rate\"].unique())\n",
        "\n",
        "# Load the pre-trained tokenizer\n",
        "tokenizer = DistilBertTokenizerFast.from_pretrained(\"distilbert-base-uncased\")\n",
        "\n",
        "# Tokenize the text and encode labels\n",
        "train_encodings = tokenizer(list(train_data[\"Review\"]), truncation=True, padding=True)\n",
        "val_encodings = tokenizer(list(val_data[\"Review\"]), truncation=True, padding=True)\n",
        "\n",
        "train_input_ids = torch.tensor(train_encodings[\"input_ids\"])\n",
        "train_attention_mask = torch.tensor(train_encodings[\"attention_mask\"])\n",
        "train_labels = torch.tensor([labels.index(label) for label in train_data[\"Rate\"]])\n",
        "\n",
        "val_input_ids = torch.tensor(val_encodings[\"input_ids\"])\n",
        "val_attention_mask = torch.tensor(val_encodings[\"attention_mask\"])\n",
        "val_labels = torch.tensor([labels.index(label) for label in val_data[\"Rate\"]])\n",
        "\n",
        "# Create PyTorch DataLoader\n",
        "train_dataset = torch.utils.data.TensorDataset(train_input_ids, train_attention_mask, train_labels)\n",
        "val_dataset = torch.utils.data.TensorDataset(val_input_ids, val_attention_mask, val_labels)\n",
        "\n",
        "# Load the pre-trained model for sequence classification\n",
        "model = DistilBertForSequenceClassification.from_pretrained(\"distilbert-base-uncased\", num_labels=len(labels))\n",
        "\n",
        "# Define the optimizer\n",
        "optimizer = AdamW(model.parameters(), lr=1e-5)\n",
        "\n",
        "# Train the model\n",
        "device = torch.device(\"cuda\" if torch.cuda.is_available() else \"cpu\")\n",
        "model.to(device)\n",
        "model.train()\n",
        "\n",
        "num_epochs = 3\n",
        "batch_size = 16\n",
        "\n",
        "train_loader = torch.utils.data.DataLoader(train_dataset, batch_size=batch_size, shuffle=True)\n",
        "\n",
        "for epoch in range(num_epochs):\n",
        "    epoch_loss = 0.0\n",
        "    for batch in train_loader:\n",
        "        input_ids, attention_mask, labels = batch\n",
        "        input_ids = input_ids.to(device)\n",
        "        attention_mask = attention_mask.to(device)\n",
        "        labels = labels.to(device)\n",
        "\n",
        "        optimizer.zero_grad()\n",
        "        outputs = model(input_ids=input_ids, attention_mask=attention_mask, labels=labels)\n",
        "        loss = outputs.loss\n",
        "        loss.backward()\n",
        "        optimizer.step()\n",
        "\n",
        "        epoch_loss += loss.item()\n",
        "\n",
        "    avg_loss = epoch_loss / len(train_loader)\n",
        "    print(f\"Epoch {epoch+1}/{num_epochs} - Loss: {avg_loss}\")\n",
        "\n",
        "# Save the trained model as a .pkl file\n",
        "model_path = \"./models/sentiment_model.pkl\"\n",
        "with open(model_path, 'wb') as f:\n",
        "    pickle.dump(model, f)\n",
        "\n",
        "# Save the tokenizer\n",
        "tokenizer.save_pretrained(\"./models/sentiment_model\")\n"
      ]
    },
    {
      "cell_type": "code",
      "execution_count": null,
      "metadata": {},
      "outputs": [],
      "source": [
        "import pandas as pd\n",
        "import torch\n",
        "from transformers import DistilBertTokenizerFast, DistilBertForSequenceClassification, AdamW\n",
        "from sklearn.model_selection import train_test_split\n",
        "\n",
        "# Load and preprocess the dataset\n",
        "dataset = pd.read_csv(\"testing_dataset.csv\")\n",
        "\n",
        "# Split the dataset into training and validation sets\n",
        "train_data, val_data = train_test_split(dataset, test_size=0.2, random_state=42)\n",
        "\n",
        "# Define the labels (sentiments)\n",
        "labels = list(dataset[\"Rate\"].unique())\n",
        "\n",
        "# Load the pre-trained tokenizer\n",
        "tokenizer = DistilBertTokenizerFast.from_pretrained(\"distilbert-base-uncased\")\n",
        "\n",
        "# Tokenize the text and encode labels\n",
        "train_encodings = tokenizer(list(train_data[\"Review\"]), truncation=True, padding=True)\n",
        "val_encodings = tokenizer(list(val_data[\"Review\"]), truncation=True, padding=True)\n",
        "\n",
        "train_input_ids = torch.tensor(train_encodings[\"input_ids\"])\n",
        "train_attention_mask = torch.tensor(train_encodings[\"attention_mask\"])\n",
        "train_labels = torch.tensor([labels.index(label) for label in train_data[\"Rate\"]])\n",
        "\n",
        "val_input_ids = torch.tensor(val_encodings[\"input_ids\"])\n",
        "val_attention_mask = torch.tensor(val_encodings[\"attention_mask\"])\n",
        "val_labels = torch.tensor([labels.index(label) for label in val_data[\"Rate\"]])\n",
        "\n",
        "# Create PyTorch DataLoader\n",
        "train_dataset = torch.utils.data.TensorDataset(train_input_ids, train_attention_mask, train_labels)\n",
        "val_dataset = torch.utils.data.TensorDataset(val_input_ids, val_attention_mask, val_labels)\n",
        "\n",
        "# Load the pre-trained model for sequence classification\n",
        "model = DistilBertForSequenceClassification.from_pretrained(\"distilbert-base-uncased\", num_labels=len(labels))\n",
        "\n",
        "# Define the optimizer\n",
        "optimizer = AdamW(model.parameters(), lr=1e-5)\n",
        "\n",
        "# Train the model\n",
        "device = torch.device(\"cuda\" if torch.cuda.is_available() else \"cpu\")\n",
        "model.to(device)\n",
        "model.train()\n",
        "\n",
        "num_epochs = 3\n",
        "batch_size = 16\n",
        "\n",
        "train_loader = torch.utils.data.DataLoader(train_dataset, batch_size=batch_size, shuffle=True)\n",
        "\n",
        "for epoch in range(num_epochs):\n",
        "    epoch_loss = 0.0\n",
        "    for batch in train_loader:\n",
        "        input_ids, attention_mask, labels = batch\n",
        "        input_ids = input_ids.to(device)\n",
        "        attention_mask = attention_mask.to(device)\n",
        "        labels = labels.to(device)\n",
        "\n",
        "        optimizer.zero_grad()\n",
        "        outputs = model(input_ids=input_ids, attention_mask=attention_mask, labels=labels)\n",
        "        loss = outputs.loss\n",
        "        loss.backward()\n",
        "        optimizer.step()\n",
        "\n",
        "        epoch_loss += loss.item()\n",
        "\n",
        "    avg_loss = epoch_loss / len(train_loader)\n",
        "    print(f\"Epoch {epoch+1}/{num_epochs} - Loss: {avg_loss}\")\n",
        "\n",
        "# Save the trained model\n",
        "model.save_pretrained(\"./models/sentiment_model\")\n",
        "tokenizer.save_pretrained(\"./models/sentiment_model\")\n"
      ]
    }
  ],
  "metadata": {
    "colab": {
      "authorship_tag": "ABX9TyO60esLIne1A2OBGjYHmxkx",
      "include_colab_link": true,
      "provenance": []
    },
    "kernelspec": {
      "display_name": "Python 3",
      "name": "python3"
    },
    "language_info": {
      "name": "python",
      "version": "3.12.0"
    }
  },
  "nbformat": 4,
  "nbformat_minor": 0
}
